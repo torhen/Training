{
 "cells": [
  {
   "cell_type": "code",
   "execution_count": 1,
   "metadata": {},
   "outputs": [],
   "source": [
    "from gtts import gTTS\n",
    "import os, time"
   ]
  },
  {
   "cell_type": "code",
   "execution_count": 2,
   "metadata": {},
   "outputs": [],
   "source": [
    "tts = gTTS(text='noch 20 Sekunden', lang='de')\n",
    "tts.save(\"wait1.wav\") \n",
    "tts = gTTS(text='noch 10 Sekunden', lang='de')\n",
    "tts.save(\"wait2.wav\") "
   ]
  },
  {
   "cell_type": "code",
   "execution_count": 3,
   "metadata": {},
   "outputs": [],
   "source": [
    "def speak(s):\n",
    "    tts = gTTS(text=s, lang='de')\n",
    "    tts.save(\"speech.wav\")\n",
    "    os.system(\"speech.wav\")\n",
    "\n",
    "def exc(s):\n",
    "    speak(s)\n",
    "    time.sleep(10)\n",
    "    #os.system('wait1.wav')\n",
    "    time.sleep(10)\n",
    "    #os.system('wait2.wav')\n",
    "    time.sleep(10)"
   ]
  },
  {
   "cell_type": "code",
   "execution_count": 4,
   "metadata": {},
   "outputs": [],
   "source": [
    "t0 = time.time()"
   ]
  },
  {
   "cell_type": "code",
   "execution_count": 5,
   "metadata": {},
   "outputs": [],
   "source": [
    "speak('Übung beginnt in 5 Sekunden.')\n",
    "time.sleep(4)"
   ]
  },
  {
   "cell_type": "code",
   "execution_count": 8,
   "metadata": {},
   "outputs": [],
   "source": [
    "exc('Reches Bein zum Po!')\n",
    "exc('Rechtes Bein nach hinten.')\n",
    "exc('Linkes Bein zum Po!')\n",
    "exc('Linkes Bein nach hinten.')"
   ]
  },
  {
   "cell_type": "code",
   "execution_count": 9,
   "metadata": {},
   "outputs": [],
   "source": [
    "exc('Reches Bein anwinkeln und Fuss bewegen.')\n",
    "exc('Rechtes Bein nach hinten.')\n",
    "exc('Linkes Bein anwinkeln und Fuss bewegen.')\n",
    "exc('Linkes Bein nach hinten.')"
   ]
  },
  {
   "cell_type": "code",
   "execution_count": 6,
   "metadata": {},
   "outputs": [],
   "source": [
    "exc('Reches Bein Spinne.')\n",
    "exc('Linkes Bein Spinne.')"
   ]
  },
  {
   "cell_type": "code",
   "execution_count": 7,
   "metadata": {},
   "outputs": [],
   "source": [
    "exc('Langsame Kniebeugen')\n",
    "exc('Nach vorn beugen und strecken')\n",
    "exc('Kniebeugen.')\n",
    "exc('Nach vorn beugen und strecken')"
   ]
  },
  {
   "cell_type": "code",
   "execution_count": 8,
   "metadata": {},
   "outputs": [],
   "source": [
    "exc('Rumpfkreisen rechts herum.')\n",
    "exc('Rumpfkreisen links herum.')"
   ]
  },
  {
   "cell_type": "code",
   "execution_count": 9,
   "metadata": {},
   "outputs": [],
   "source": [
    "exc('Am Türrahmen abstützen und hoch und runter')"
   ]
  },
  {
   "cell_type": "code",
   "execution_count": 10,
   "metadata": {},
   "outputs": [],
   "source": [
    "exc('Armkreisen rechts')\n",
    "exc('Armkreisen links')"
   ]
  },
  {
   "cell_type": "code",
   "execution_count": 11,
   "metadata": {},
   "outputs": [],
   "source": [
    "exc('Rechte Hand an Türrahmen drücken')\n",
    "exc('Linke Hand an Türrahmen drücken')"
   ]
  },
  {
   "cell_type": "code",
   "execution_count": 12,
   "metadata": {},
   "outputs": [],
   "source": [
    "exc('Kopfkreisen rechts und links')"
   ]
  },
  {
   "cell_type": "code",
   "execution_count": 13,
   "metadata": {},
   "outputs": [],
   "source": [
    "exc('Auf alle viere gehen und langsam absitzen')\n",
    "exc('Gewicht nach hinten verlagern')"
   ]
  },
  {
   "cell_type": "code",
   "execution_count": 14,
   "metadata": {},
   "outputs": [],
   "source": [
    "speak('Ende der Übung')"
   ]
  },
  {
   "cell_type": "code",
   "execution_count": 15,
   "metadata": {},
   "outputs": [
    {
     "name": "stdout",
     "output_type": "stream",
     "text": [
      "min: 8.701824470361073\n"
     ]
    }
   ],
   "source": [
    "print('min:', (time.time() - t0) / 60)"
   ]
  },
  {
   "cell_type": "code",
   "execution_count": null,
   "metadata": {},
   "outputs": [],
   "source": []
  },
  {
   "cell_type": "code",
   "execution_count": null,
   "metadata": {},
   "outputs": [],
   "source": []
  },
  {
   "cell_type": "code",
   "execution_count": null,
   "metadata": {},
   "outputs": [],
   "source": []
  },
  {
   "cell_type": "code",
   "execution_count": null,
   "metadata": {},
   "outputs": [],
   "source": []
  },
  {
   "cell_type": "code",
   "execution_count": null,
   "metadata": {},
   "outputs": [],
   "source": []
  }
 ],
 "metadata": {
  "kernelspec": {
   "display_name": "Python 3",
   "language": "python",
   "name": "python3"
  },
  "language_info": {
   "codemirror_mode": {
    "name": "ipython",
    "version": 3
   },
   "file_extension": ".py",
   "mimetype": "text/x-python",
   "name": "python",
   "nbconvert_exporter": "python",
   "pygments_lexer": "ipython3",
   "version": "3.6.10"
  }
 },
 "nbformat": 4,
 "nbformat_minor": 4
}
