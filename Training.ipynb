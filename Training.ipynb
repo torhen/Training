{
 "cells": [
  {
   "cell_type": "code",
   "execution_count": 1,
   "metadata": {},
   "outputs": [],
   "source": [
    "from gtts import gTTS \n",
    "import os,wave,random,struct"
   ]
  },
  {
   "cell_type": "code",
   "execution_count": 2,
   "metadata": {},
   "outputs": [
    {
     "name": "stdout",
     "output_type": "stream",
     "text": [
      "Wall time: 22.9 s\n"
     ]
    }
   ],
   "source": [
    "%%time\n",
    "noise_output = wave.open('tmp/wait.wav', 'w')\n",
    "noise_output.setparams((2, 2, 44100, 0, 'NONE', 'not compressed'))\n",
    "\n",
    "for i in range(0, 44100 * 4):\n",
    "    value = 0 #random.randint(-32767, 32767)\n",
    "    packed_value = struct.pack('h', value)\n",
    "    noise_output.writeframes(packed_value)\n",
    "    noise_output.writeframes(packed_value)\n",
    "\n",
    "noise_output.close()"
   ]
  },
  {
   "cell_type": "code",
   "execution_count": 3,
   "metadata": {},
   "outputs": [],
   "source": [
    "def make_wave(sentence, dest):\n",
    "    print(sentence)\n",
    "    tts = gTTS(text=sentence, lang='de')\n",
    "    tts.save(r\"C:\\training\\tmp\\tmp.mp3\") \n",
    "    !\"C:\\Program Files (x86)\\sox-14-4-2\\sox.exe\" \"C:\\training\\tmp\\tmp.mp3\" \"C:\\training\\tmp\\{dest}\""
   ]
  },
  {
   "cell_type": "code",
   "execution_count": 4,
   "metadata": {},
   "outputs": [],
   "source": [
    "def concat(infiles, outfile):\n",
    "\n",
    "    data= []\n",
    "\n",
    "    for infile in infiles:\n",
    "        w = wave.open(infile, 'rb')\n",
    "        data.append( [w.getparams(), w.readframes(w.getnframes())] )\n",
    "        w.close()\n",
    "\n",
    "    output = wave.open(outfile, 'wb')\n",
    "    output.setparams(data[0][0])\n",
    "    for i in range(len(infiles)):\n",
    "        output.writeframes(data[i][1])\n"
   ]
  },
  {
   "cell_type": "code",
   "execution_count": 8,
   "metadata": {},
   "outputs": [
    {
     "name": "stdout",
     "output_type": "stream",
     "text": [
      "Übung begint gleich\n",
      "Reches Bein zum Po\n",
      "Noch 15 Sekunden\n",
      "Rechtes Bein nach hinten\n",
      "Noch 15 Sekunden\n",
      "Linkes Bein zum Po\n",
      "Noch 15 Sekunden\n",
      "Linkes Bein nach hinten\n",
      "Noch 15 Sekunden\n",
      "Reches Bein anwinkeln und Fuss bewegen\n",
      "Noch 15 Sekunden\n",
      "Rechtes Bein nach hinten\n",
      "Noch 15 Sekunden\n",
      "Linkes Bein anwinkeln und Fuss bewegen\n",
      "Noch 15 Sekunden\n",
      "Linkes Bein nach hinten\n",
      "Noch 15 Sekunden\n",
      "Reches Bein Spinne\n",
      "Noch 15 Sekunden\n",
      "Linkes Bein Spinne\n",
      "Noch 15 Sekunden\n",
      "Langsame Kniebeugen\n",
      "Noch 15 Sekunden\n",
      "Rumpfbeugen\n",
      "Noch 15 Sekunden\n",
      "Kniebeugen\n",
      "Noch 15 Sekunden\n",
      "Rumpfbeugen\n",
      "Noch 15 Sekunden\n",
      "Rumpfkreisen rechts herum\n",
      "Rumpfkreisen links herum\n",
      "Am Türrahmen abstützen und hoch und runter\n",
      "Noch 15 Sekunden\n",
      "Armkreisen rechts\n",
      "Noch 15 Sekunden\n",
      "Armkreisen links\n",
      "Noch 15 Sekunden\n",
      "Rechte Hand an Türrahmen drücken\n",
      "Noch 15 Sekunden\n",
      "Linke Hand an Türrahmen drücken\n",
      "Noch 15 Sekunden\n",
      "Kopfkreisen rechts herum\n",
      "Kopfkreisen links herum\n",
      "Auf alle viere gehen und langsam absitzen\n",
      "Noch 15 Sekunden\n",
      "Gewicht nach hinten verlagern\n",
      "Noch 15 Sekunden\n",
      "Auf allen vieren Rücken nache oben und unten\n",
      "Ende der Übung\n"
     ]
    }
   ],
   "source": [
    "lText = \"\"\"\n",
    "Übung begint gleich\n",
    "\n",
    "Reches Bein zum Po\n",
    "Noch 15 Sekunden\n",
    "Rechtes Bein nach hinten\n",
    "Noch 15 Sekunden\n",
    "Linkes Bein zum Po\n",
    "Noch 15 Sekunden\n",
    "Linkes Bein nach hinten\n",
    "Noch 15 Sekunden\n",
    "\n",
    "Reches Bein anwinkeln und Fuss bewegen\n",
    "Noch 15 Sekunden\n",
    "Rechtes Bein nach hinten\n",
    "Noch 15 Sekunden\n",
    "Linkes Bein anwinkeln und Fuss bewegen\n",
    "Noch 15 Sekunden\n",
    "Linkes Bein nach hinten\n",
    "\n",
    "Noch 15 Sekunden\n",
    "Reches Bein Spinne\n",
    "Noch 15 Sekunden\n",
    "Linkes Bein Spinne\n",
    "Noch 15 Sekunden\n",
    "\n",
    "Langsame Kniebeugen\n",
    "Noch 15 Sekunden\n",
    "Rumpfbeugen\n",
    "Noch 15 Sekunden\n",
    "Kniebeugen\n",
    "Noch 15 Sekunden\n",
    "Rumpfbeugen\n",
    "Noch 15 Sekunden\n",
    "\n",
    "Rumpfkreisen rechts herum\n",
    "Rumpfkreisen links herum\n",
    "\n",
    "Am Türrahmen abstützen und hoch und runter\n",
    "Noch 15 Sekunden\n",
    "\n",
    "Armkreisen rechts\n",
    "Noch 15 Sekunden\n",
    "Armkreisen links\n",
    "Noch 15 Sekunden\n",
    "\n",
    "Rechte Hand an Türrahmen drücken\n",
    "Noch 15 Sekunden\n",
    "Linke Hand an Türrahmen drücken\n",
    "Noch 15 Sekunden\n",
    "\n",
    "Kopfkreisen rechts herum\n",
    "Kopfkreisen links herum\n",
    "\n",
    "Auf alle viere gehen und langsam absitzen\n",
    "Noch 15 Sekunden\n",
    "Gewicht nach hinten verlagern\n",
    "Noch 15 Sekunden\n",
    "\n",
    "Auf allen vieren Rücken nache oben und unten\n",
    "\n",
    "Ende der Übung\n",
    "\"\"\".split('\\n')\n",
    "lText = [s for s in lText if len(s) > 1]\n",
    "lFiles = []\n",
    "for i, text in enumerate(lText):\n",
    "    dest = f'text{i}.wav'\n",
    "    lFiles.append(f'tmp/{dest}')\n",
    "    lFiles.append('tmp/wait.wav')\n",
    "    make_wave(text, dest)"
   ]
  },
  {
   "cell_type": "code",
   "execution_count": 9,
   "metadata": {},
   "outputs": [],
   "source": [
    "concat(lFiles, 'Training.wav')"
   ]
  },
  {
   "cell_type": "code",
   "execution_count": 7,
   "metadata": {},
   "outputs": [
    {
     "data": {
      "text/plain": [
       "0"
      ]
     },
     "execution_count": 7,
     "metadata": {},
     "output_type": "execute_result"
    }
   ],
   "source": [
    "os.system('Training.wav')"
   ]
  },
  {
   "cell_type": "code",
   "execution_count": null,
   "metadata": {},
   "outputs": [],
   "source": []
  },
  {
   "cell_type": "code",
   "execution_count": null,
   "metadata": {},
   "outputs": [],
   "source": []
  },
  {
   "cell_type": "code",
   "execution_count": 7,
   "metadata": {},
   "outputs": [],
   "source": []
  },
  {
   "cell_type": "code",
   "execution_count": 8,
   "metadata": {},
   "outputs": [],
   "source": []
  },
  {
   "cell_type": "code",
   "execution_count": 9,
   "metadata": {},
   "outputs": [],
   "source": []
  },
  {
   "cell_type": "code",
   "execution_count": 10,
   "metadata": {},
   "outputs": [],
   "source": []
  },
  {
   "cell_type": "code",
   "execution_count": 11,
   "metadata": {},
   "outputs": [],
   "source": []
  },
  {
   "cell_type": "code",
   "execution_count": 12,
   "metadata": {},
   "outputs": [],
   "source": []
  },
  {
   "cell_type": "code",
   "execution_count": 13,
   "metadata": {},
   "outputs": [],
   "source": []
  },
  {
   "cell_type": "code",
   "execution_count": 14,
   "metadata": {},
   "outputs": [],
   "source": []
  },
  {
   "cell_type": "code",
   "execution_count": 15,
   "metadata": {},
   "outputs": [
    {
     "name": "stdout",
     "output_type": "stream",
     "text": [
      "min: 8.701824470361073\n"
     ]
    }
   ],
   "source": [
    "print('min:', (time.time() - t0) / 60)"
   ]
  },
  {
   "cell_type": "code",
   "execution_count": null,
   "metadata": {},
   "outputs": [],
   "source": []
  },
  {
   "cell_type": "code",
   "execution_count": null,
   "metadata": {},
   "outputs": [],
   "source": []
  },
  {
   "cell_type": "code",
   "execution_count": null,
   "metadata": {},
   "outputs": [],
   "source": []
  },
  {
   "cell_type": "code",
   "execution_count": null,
   "metadata": {},
   "outputs": [],
   "source": []
  },
  {
   "cell_type": "code",
   "execution_count": null,
   "metadata": {},
   "outputs": [],
   "source": []
  }
 ],
 "metadata": {
  "kernelspec": {
   "display_name": "Python 3",
   "language": "python",
   "name": "python3"
  },
  "language_info": {
   "codemirror_mode": {
    "name": "ipython",
    "version": 3
   },
   "file_extension": ".py",
   "mimetype": "text/x-python",
   "name": "python",
   "nbconvert_exporter": "python",
   "pygments_lexer": "ipython3",
   "version": "3.6.10"
  }
 },
 "nbformat": 4,
 "nbformat_minor": 4
}
